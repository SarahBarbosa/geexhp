{
 "cells": [
  {
   "cell_type": "code",
   "execution_count": 3,
   "metadata": {},
   "outputs": [],
   "source": [
    "import pandas as pd\n",
    "import numpy as np\n",
    "\n",
    "goe = pd.read_csv(\"data/atmos_layers/after_goe.csv\")\n",
    "goe[\"N2\"] = np.full(60, 0.781)\n",
    "#goe[\"O2\"] = goe[\"O2\"] * 10\n",
    "#goe.to_csv(\"data/atmos_layers/teste_goe.csv\", index=False)"
   ]
  },
  {
   "cell_type": "code",
   "execution_count": 2,
   "metadata": {},
   "outputs": [
    {
     "data": {
      "text/html": [
       "<div>\n",
       "<style scoped>\n",
       "    .dataframe tbody tr th:only-of-type {\n",
       "        vertical-align: middle;\n",
       "    }\n",
       "\n",
       "    .dataframe tbody tr th {\n",
       "        vertical-align: top;\n",
       "    }\n",
       "\n",
       "    .dataframe thead th {\n",
       "        text-align: right;\n",
       "    }\n",
       "</style>\n",
       "<table border=\"1\" class=\"dataframe\">\n",
       "  <thead>\n",
       "    <tr style=\"text-align: right;\">\n",
       "      <th></th>\n",
       "      <th>Pressure</th>\n",
       "      <th>Temperature</th>\n",
       "      <th>H2O</th>\n",
       "      <th>N2O</th>\n",
       "      <th>O3</th>\n",
       "      <th>CO</th>\n",
       "      <th>CO2</th>\n",
       "      <th>O2</th>\n",
       "      <th>CH4</th>\n",
       "      <th>N2</th>\n",
       "    </tr>\n",
       "  </thead>\n",
       "  <tbody>\n",
       "    <tr>\n",
       "      <th>55</th>\n",
       "      <td>0.000291</td>\n",
       "      <td>195.502165</td>\n",
       "      <td>0.000093</td>\n",
       "      <td>0.0</td>\n",
       "      <td>1.056359e-09</td>\n",
       "      <td>0.000004</td>\n",
       "      <td>0.012299</td>\n",
       "      <td>0.024598</td>\n",
       "      <td>0.00246</td>\n",
       "      <td>0.960546</td>\n",
       "    </tr>\n",
       "    <tr>\n",
       "      <th>56</th>\n",
       "      <td>0.000252</td>\n",
       "      <td>195.562953</td>\n",
       "      <td>0.000102</td>\n",
       "      <td>0.0</td>\n",
       "      <td>3.719109e-10</td>\n",
       "      <td>0.000004</td>\n",
       "      <td>0.012299</td>\n",
       "      <td>0.024598</td>\n",
       "      <td>0.00246</td>\n",
       "      <td>0.960538</td>\n",
       "    </tr>\n",
       "    <tr>\n",
       "      <th>57</th>\n",
       "      <td>0.000219</td>\n",
       "      <td>195.623742</td>\n",
       "      <td>0.000111</td>\n",
       "      <td>0.0</td>\n",
       "      <td>0.000000e+00</td>\n",
       "      <td>0.000004</td>\n",
       "      <td>0.012299</td>\n",
       "      <td>0.024597</td>\n",
       "      <td>0.00246</td>\n",
       "      <td>0.960530</td>\n",
       "    </tr>\n",
       "    <tr>\n",
       "      <th>58</th>\n",
       "      <td>0.000190</td>\n",
       "      <td>195.684530</td>\n",
       "      <td>0.000119</td>\n",
       "      <td>0.0</td>\n",
       "      <td>0.000000e+00</td>\n",
       "      <td>0.000004</td>\n",
       "      <td>0.012299</td>\n",
       "      <td>0.024597</td>\n",
       "      <td>0.00246</td>\n",
       "      <td>0.960521</td>\n",
       "    </tr>\n",
       "    <tr>\n",
       "      <th>59</th>\n",
       "      <td>0.000164</td>\n",
       "      <td>195.745318</td>\n",
       "      <td>0.000128</td>\n",
       "      <td>0.0</td>\n",
       "      <td>0.000000e+00</td>\n",
       "      <td>0.000004</td>\n",
       "      <td>0.012299</td>\n",
       "      <td>0.024597</td>\n",
       "      <td>0.00246</td>\n",
       "      <td>0.960513</td>\n",
       "    </tr>\n",
       "  </tbody>\n",
       "</table>\n",
       "</div>"
      ],
      "text/plain": [
       "    Pressure  Temperature       H2O  N2O            O3        CO       CO2  \\\n",
       "55  0.000291   195.502165  0.000093  0.0  1.056359e-09  0.000004  0.012299   \n",
       "56  0.000252   195.562953  0.000102  0.0  3.719109e-10  0.000004  0.012299   \n",
       "57  0.000219   195.623742  0.000111  0.0  0.000000e+00  0.000004  0.012299   \n",
       "58  0.000190   195.684530  0.000119  0.0  0.000000e+00  0.000004  0.012299   \n",
       "59  0.000164   195.745318  0.000128  0.0  0.000000e+00  0.000004  0.012299   \n",
       "\n",
       "          O2      CH4        N2  \n",
       "55  0.024598  0.00246  0.960546  \n",
       "56  0.024598  0.00246  0.960538  \n",
       "57  0.024597  0.00246  0.960530  \n",
       "58  0.024597  0.00246  0.960521  \n",
       "59  0.024597  0.00246  0.960513  "
      ]
     },
     "execution_count": 2,
     "metadata": {},
     "output_type": "execute_result"
    }
   ],
   "source": [
    "abun = goe.columns[2:]\n",
    "goe[abun] = goe[abun].div(goe[abun].sum(axis=1), axis=0)\n",
    "goe.tail()"
   ]
  },
  {
   "cell_type": "code",
   "execution_count": 4,
   "metadata": {},
   "outputs": [],
   "source": [
    "def molweight_after_goe() -> np.ndarray:\n",
    "    molecular_weights = np.array([\n",
    "        18.01528, 44.01280, 47.99820, 28.0101, 44.0095, 31.99880, 16.0425, 28.01340 \n",
    "        ])\n",
    "    return molecular_weights   "
   ]
  },
  {
   "cell_type": "code",
   "execution_count": 5,
   "metadata": {},
   "outputs": [
    {
     "data": {
      "text/plain": [
       "28.184248006183125"
      ]
     },
     "execution_count": 5,
     "metadata": {},
     "output_type": "execute_result"
    }
   ],
   "source": [
    "goe[abun].apply(lambda row: sum(row[col] * molweight_after_goe()[i] for i, col in enumerate(abun)), axis=1).mean()"
   ]
  },
  {
   "cell_type": "code",
   "execution_count": null,
   "metadata": {},
   "outputs": [],
   "source": []
  }
 ],
 "metadata": {
  "kernelspec": {
   "display_name": "psg-venv",
   "language": "python",
   "name": "python3"
  },
  "language_info": {
   "codemirror_mode": {
    "name": "ipython",
    "version": 3
   },
   "file_extension": ".py",
   "mimetype": "text/x-python",
   "name": "python",
   "nbconvert_exporter": "python",
   "pygments_lexer": "ipython3",
   "version": "3.10.12"
  }
 },
 "nbformat": 4,
 "nbformat_minor": 2
}
