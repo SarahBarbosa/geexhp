{
 "cells": [
  {
   "cell_type": "code",
   "execution_count": null,
   "metadata": {},
   "outputs": [],
   "source": [
    "import tensorflow as tf\n",
    "import os\n",
    "from itertools import chain"
   ]
  },
  {
   "cell_type": "code",
   "execution_count": 6,
   "metadata": {},
   "outputs": [],
   "source": [
    "root_folder = \"../data/TFRecord_data_OLD\""
   ]
  },
  {
   "cell_type": "code",
   "execution_count": 7,
   "metadata": {},
   "outputs": [],
   "source": [
    "files_array = [[file for file in files if file.endswith('.tfrecord')] for _, _, files in os.walk(root_folder)]\n",
    "all_files = list(chain.from_iterable(files_array))"
   ]
  },
  {
   "cell_type": "code",
   "execution_count": null,
   "metadata": {},
   "outputs": [],
   "source": [
    "# Output TFRecord file\n",
    "output_tfrecord_file = '../data/geexhp_samples.tfrecord'\n",
    "\n",
    "# Write concatenated records to a new TFRecord file\n",
    "with tf.io.TFRecordWriter(output_tfrecord_file) as writer:\n",
    "    for tfrecord_file in all_files:\n",
    "        tfrecord_file_path = os.path.join(root_folder, tfrecord_file)\n",
    "        # Read each TFRecord file\n",
    "        for record in tf.data.TFRecordDataset(tfrecord_file_path):\n",
    "            writer.write(record.numpy())\n",
    "\n",
    "print(f\"Concatenated TFRecord file saved to '{output_tfrecord_file}'\")\n"
   ]
  }
 ],
 "metadata": {
  "kernelspec": {
   "display_name": "sarah_geexhp",
   "language": "python",
   "name": "python3"
  },
  "language_info": {
   "codemirror_mode": {
    "name": "ipython",
    "version": 3
   },
   "file_extension": ".py",
   "mimetype": "text/x-python",
   "name": "python",
   "nbconvert_exporter": "python",
   "pygments_lexer": "ipython3",
   "version": "3.12.3"
  }
 },
 "nbformat": 4,
 "nbformat_minor": 2
}
