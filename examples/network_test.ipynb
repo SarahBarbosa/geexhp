{
 "cells": [
  {
   "cell_type": "markdown",
   "metadata": {},
   "source": [
    "# Setup"
   ]
  },
  {
   "cell_type": "code",
   "execution_count": 1,
   "metadata": {},
   "outputs": [],
   "source": [
    "import os\n",
    "os.environ['TF_CPP_MIN_LOG_LEVEL'] = '3'\n",
    "\n",
    "import tensorflow as tf\n",
    "from geexhp import datavis as dvis\n",
    "import matplotlib.pyplot as plt\n",
    "dvis.configure_matplotlib()"
   ]
  },
  {
   "cell_type": "code",
   "execution_count": 2,
   "metadata": {},
   "outputs": [
    {
     "name": "stdout",
     "output_type": "stream",
     "text": [
      "INFO:tensorflow:Using MirroredStrategy with devices ('/job:localhost/replica:0/task:0/device:CPU:0',)\n"
     ]
    }
   ],
   "source": [
    "strategy = tf.distribute.MirroredStrategy()"
   ]
  },
  {
   "cell_type": "markdown",
   "metadata": {},
   "source": [
    "## Functions"
   ]
  },
  {
   "cell_type": "code",
   "execution_count": 3,
   "metadata": {},
   "outputs": [],
   "source": [
    "# Parsing function.\n",
    "def parse_example(example_proto, input, output):\n",
    "    def _dense_features_process(parsed_features):\n",
    "        parsed_features = tf.io.parse_single_example(example_proto, parsed_features)  \n",
    "\n",
    "        dense_features_input = {\n",
    "            key: tf.sparse.to_dense(value, default_value=0.0)\n",
    "            if isinstance(value, tf.SparseTensor) else value\n",
    "            for key, value in parsed_features.items()\n",
    "        }\n",
    "        \n",
    "        return dense_features_input\n",
    "    \n",
    "    parsed_input = _dense_features_process(input)\n",
    "    parsed_output = _dense_features_process(output)\n",
    "\n",
    "    return parsed_input, parsed_output"
   ]
  },
  {
   "cell_type": "code",
   "execution_count": 4,
   "metadata": {},
   "outputs": [],
   "source": [
    "def read_tfrecord(file, batch_size = 1000):\n",
    "    # Define feature description for parsing.\n",
    "    #   Comment every feature that will not be used.\n",
    "    input = {\n",
    "        'NOISY_ALBEDO_B-NIR' : tf.io.VarLenFeature(tf.float32),\n",
    "        'NOISY_ALBEDO_B-UV' : tf.io.VarLenFeature(tf.float32),\n",
    "        'NOISY_ALBEDO_B-Vis' : tf.io.VarLenFeature(tf.float32),\n",
    "\n",
    "        # 'NOISY_ALBEDO_SS-NIR' : tf.io.VarLenFeature(tf.float32),\n",
    "        # 'NOISY_ALBEDO_SS-UV' : tf.io.VarLenFeature(tf.float32),\n",
    "        # 'NOISY_ALBEDO_SS-Vis' : tf.io.VarLenFeature(tf.float32),\n",
    "\n",
    "        # 'NOISY_ALBEDO_B-NIR_norm' : tf.io.VarLenFeature(tf.float32),\n",
    "        # 'NOISY_ALBEDO_B-UV_norm' : tf.io.VarLenFeature(tf.float32),\n",
    "        # 'NOISY_ALBEDO_B-Vis_norm' : tf.io.VarLenFeature(tf.float32),\n",
    "        \n",
    "        # 'NOISY_ALBEDO_SS-NIR_norm' : tf.io.VarLenFeature(tf.float32),\n",
    "        # 'NOISY_ALBEDO_SS-UV_norm' : tf.io.VarLenFeature(tf.float32),\n",
    "        # 'NOISY_ALBEDO_SS-Vis_norm' : tf.io.VarLenFeature(tf.float32),\n",
    "    }\n",
    "\n",
    "    output = {\n",
    "        \"OBJECT-RADIUS-REL-EARTH\" : tf.io.FixedLenFeature([], tf.float32),\n",
    "        \"LOG-OBJECT-GRAVITY\" : tf.io.FixedLenFeature([], tf.float32),\n",
    "        \"LOG-ATMOSPHERE-TEMPERATURE\" : tf.io.FixedLenFeature([], tf.float32),\n",
    "        \"BAR-ATMOSPHERE-PRESSURE\" : tf.io.FixedLenFeature([], tf.float32),\n",
    "\n",
    "        # 'OBJECT-DIAMETER' : tf.io.FixedLenFeature([], tf.float32),\n",
    "        # 'OBJECT-GRAVITY' : tf.io.FixedLenFeature([], tf.float32),\n",
    "        # 'ATMOSPHERE-TEMPERATURE' : tf.io.FixedLenFeature([], tf.float32),\n",
    "        # 'ATMOSPHERE-PRESSURE' : tf.io.FixedLenFeature([], tf.float32),\n",
    "        \n",
    "        # 'Earth_type' : tf.io.FixedLenFeature([], tf.string),\n",
    "\n",
    "        'log_C2H6' : tf.io.FixedLenFeature([], tf.float32),\n",
    "        'log_CH4' : tf.io.FixedLenFeature([], tf.float32),\n",
    "        'log_CO' : tf.io.FixedLenFeature([], tf.float32),\n",
    "        'log_CO2' : tf.io.FixedLenFeature([], tf.float32),\n",
    "        'log_H2O' : tf.io.FixedLenFeature([], tf.float32),\n",
    "        'log_N2' : tf.io.FixedLenFeature([], tf.float32),\n",
    "        'log_N2O' : tf.io.FixedLenFeature([], tf.float32),\n",
    "        'log_O2' : tf.io.FixedLenFeature([], tf.float32),\n",
    "        'log_O3' : tf.io.FixedLenFeature([], tf.float32)\n",
    "    }\n",
    "\n",
    "    # Read TFRecord.\n",
    "    dataset = tf.data.TFRecordDataset(file)\n",
    "\n",
    "    parsed_dataset = dataset.map(lambda x: parse_example(x, input, output), num_parallel_calls=tf.data.AUTOTUNE)\n",
    "\n",
    "    parsed_dataset = parsed_dataset.batch(batch_size, drop_remainder=False)\n",
    "    parsed_dataset = parsed_dataset.prefetch(tf.data.AUTOTUNE)\n",
    "    parsed_dataset = tf.data.Dataset.range(1).interleave(lambda _: parsed_dataset, num_parallel_calls=tf.data.AUTOTUNE)\n",
    "\n",
    "    return parsed_dataset"
   ]
  },
  {
   "cell_type": "markdown",
   "metadata": {},
   "source": [
    "# Run"
   ]
  },
  {
   "cell_type": "code",
   "execution_count": 5,
   "metadata": {},
   "outputs": [],
   "source": [
    "train_ds = read_tfrecord(\"../data/train.tfrecord\")\n",
    "val_ds = read_tfrecord(\"../data/val.tfrecord\")\n",
    "test_ds = read_tfrecord(\"../data/test.tfrecord\")"
   ]
  },
  {
   "cell_type": "code",
   "execution_count": 6,
   "metadata": {},
   "outputs": [],
   "source": [
    "def build_model():\n",
    "    outputs_list = [\n",
    "        \"OBJECT-RADIUS-REL-EARTH\",\n",
    "        \"LOG-OBJECT-GRAVITY\",\n",
    "        \"LOG-ATMOSPHERE-TEMPERATURE\",\n",
    "        \"BAR-ATMOSPHERE-PRESSURE\",\n",
    "        'log_C2H6',\n",
    "        'log_CH4',\n",
    "        'log_CO',\n",
    "        'log_CO2',\n",
    "        'log_H2O',\n",
    "        'log_N2',\n",
    "        'log_N2O',\n",
    "        'log_O2',\n",
    "        'log_O3'\n",
    "    ]\n",
    "    \n",
    "    input_uv = tf.keras.layers.Input(shape = (8,), name='NOISY_ALBEDO_B-UV')\n",
    "    input_vis = tf.keras.layers.Input(shape = (94,), name='NOISY_ALBEDO_B-Vis')\n",
    "    input_nir = tf.keras.layers.Input(shape = (49,), name='NOISY_ALBEDO_B-NIR')\n",
    "\n",
    "    x = tf.keras.layers.Concatenate()([input_uv, input_vis, input_nir])\n",
    "\n",
    "    # Add a channel dimension to make it compatible with Conv1D\n",
    "    x = tf.keras.layers.Reshape((151, 1))(x)\n",
    "\n",
    "    x = tf.keras.layers.Conv1D(48, 5, activation='swish')(x)\n",
    "    x = tf.keras.layers.Conv1D(48, 5, activation='swish')(x)\n",
    "    x = tf.keras.layers.MaxPooling1D(pool_size=2)(x)\n",
    "    x = tf.keras.layers.BatchNormalization()(x)\n",
    "\n",
    "    x = tf.keras.layers.Conv1D(16, 5, activation='swish')(x)\n",
    "    x = tf.keras.layers.Conv1D(16, 5, activation='swish')(x)\n",
    "    x = tf.keras.layers.MaxPooling1D(pool_size=2)(x)\n",
    "    x = tf.keras.layers.BatchNormalization()(x)\n",
    "\n",
    "    x = tf.keras.layers.Conv1D(16, 5, activation='swish')(x)\n",
    "    x = tf.keras.layers.Conv1D(16, 5, activation='swish')(x)\n",
    "    x = tf.keras.layers.MaxPooling1D(pool_size=2)(x)\n",
    "    x = tf.keras.layers.BatchNormalization()(x)\n",
    "\n",
    "    x = tf.keras.layers.Flatten()(x)\n",
    "\n",
    "    x = tf.keras.layers.Dense(128, activation='relu', kernel_regularizer=tf.keras.regularizers.l2(1e-3))(x)\n",
    "    x = tf.keras.layers.Dropout(0.4)(x)\n",
    "    x = tf.keras.layers.Dense(64, activation='relu', kernel_regularizer=tf.keras.regularizers.l2(1e-3))(x)\n",
    "    x = tf.keras.layers.Dropout(0.4)(x)\n",
    "\n",
    "    # Output Layers\n",
    "    outputs = {}\n",
    "    for output_name in outputs_list:\n",
    "        output = tf.keras.layers.Dense(\n",
    "            units=1,\n",
    "            activation='linear',\n",
    "            kernel_regularizer=tf.keras.regularizers.l1(1e-5),\n",
    "            name=output_name\n",
    "        )(x)\n",
    "        outputs[output_name] = output\n",
    "\n",
    "    losses = {output_name: 'mae' for output_name in outputs_list}\n",
    "\n",
    "    inpts = [input_uv, input_vis, input_nir]\n",
    "\n",
    "    learning_rate = 1e-4\n",
    "    beta_1 = 0.9\n",
    "    beta_2 = 0.999\n",
    "    epsilon = 1e-5\n",
    "\n",
    "    opt = tf.keras.optimizers.Adam(learning_rate=learning_rate, beta_1=beta_1, beta_2=beta_2, epsilon=epsilon)\n",
    "\n",
    "    model = tf.keras.Model(inputs=inpts, outputs=outputs, name=\"test_1\")\n",
    "    model.compile(optimizer=opt, loss=losses)\n",
    "\n",
    "    return model"
   ]
  },
  {
   "cell_type": "code",
   "execution_count": 7,
   "metadata": {},
   "outputs": [],
   "source": [
    "# def count_samples(dataset: tf.data.Dataset):\n",
    "#     \"\"\"\n",
    "#     Count the total number of samples in a dataset by iterating once.\n",
    "#     If the dataset is batched, unbatch it first.\n",
    "#     \"\"\"\n",
    "#     count = 0\n",
    "#     for _ in dataset.unbatch():\n",
    "#         count += 1\n",
    "#     return count\n",
    "\n",
    "# train_num_samples = count_samples(train_ds)\n",
    "# print(\"Train samples:\", train_num_samples)\n",
    "\n",
    "# val_num_samples = count_samples(val_ds)\n",
    "# print(\"Validation samples:\", val_num_samples)\n",
    "\n",
    "# batch_size = 1000\n",
    "# steps_per_epoch = train_num_samples//batch_size\n",
    "# validation_steps = val_num_samples//batch_size"
   ]
  },
  {
   "cell_type": "code",
   "execution_count": 8,
   "metadata": {},
   "outputs": [
    {
     "name": "stdout",
     "output_type": "stream",
     "text": [
      "Epoch 1/100\n",
      "    819/Unknown \u001b[1m204s\u001b[0m 246ms/step - BAR-ATMOSPHERE-PRESSURE_loss: 1.1541 - LOG-ATMOSPHERE-TEMPERATURE_loss: 1.7687 - LOG-OBJECT-GRAVITY_loss: 0.8081 - OBJECT-RADIUS-REL-EARTH_loss: 0.9588 - log_C2H6_loss: 0.9437 - log_CH4_loss: 3.6111 - log_CO2_loss: 2.1391 - log_CO_loss: 3.5473 - log_H2O_loss: 2.3607 - log_N2O_loss: 4.0226 - log_N2_loss: 0.7322 - log_O2_loss: 1.0606 - log_O3_loss: 3.5905 - loss: 26.9324"
     ]
    },
    {
     "name": "stderr",
     "output_type": "stream",
     "text": [
      "/usr/lib/python3.10/contextlib.py:153: UserWarning: Your input ran out of data; interrupting training. Make sure that your dataset or generator can generate at least `steps_per_epoch * epochs` batches. You may need to use the `.repeat()` function when building your dataset.\n",
      "  self.gen.throw(typ, value, traceback)\n"
     ]
    },
    {
     "name": "stdout",
     "output_type": "stream",
     "text": [
      "\u001b[1m819/819\u001b[0m \u001b[32m━━━━━━━━━━━━━━━━━━━━\u001b[0m\u001b[37m\u001b[0m \u001b[1m211s\u001b[0m 254ms/step - BAR-ATMOSPHERE-PRESSURE_loss: 1.1539 - LOG-ATMOSPHERE-TEMPERATURE_loss: 1.7681 - LOG-OBJECT-GRAVITY_loss: 0.8080 - OBJECT-RADIUS-REL-EARTH_loss: 0.9586 - log_C2H6_loss: 0.9449 - log_CH4_loss: 3.6094 - log_CO2_loss: 2.1383 - log_CO_loss: 3.5456 - log_H2O_loss: 2.3600 - log_N2O_loss: 4.0207 - log_N2_loss: 0.7322 - log_O2_loss: 1.0605 - log_O3_loss: 3.5888 - loss: 26.9240 - val_BAR-ATMOSPHERE-PRESSURE_loss: 0.4439 - val_LOG-ATMOSPHERE-TEMPERATURE_loss: 0.0909 - val_LOG-OBJECT-GRAVITY_loss: 0.1177 - val_OBJECT-RADIUS-REL-EARTH_loss: 0.1838 - val_log_C2H6_loss: 3.1316 - val_log_CH4_loss: 1.7863 - val_log_CO2_loss: 0.9994 - val_log_CO_loss: 1.7570 - val_log_H2O_loss: 0.8444 - val_log_N2O_loss: 4.1643 - val_log_N2_loss: 0.1182 - val_log_O2_loss: 0.9616 - val_log_O3_loss: 3.7089 - val_loss: 18.9138\n",
      "Epoch 2/100\n",
      "\u001b[1m819/819\u001b[0m \u001b[32m━━━━━━━━━━━━━━━━━━━━\u001b[0m\u001b[37m\u001b[0m \u001b[1m207s\u001b[0m 252ms/step - BAR-ATMOSPHERE-PRESSURE_loss: 0.8492 - LOG-ATMOSPHERE-TEMPERATURE_loss: 0.8540 - LOG-OBJECT-GRAVITY_loss: 0.4961 - OBJECT-RADIUS-REL-EARTH_loss: 0.6112 - log_C2H6_loss: 1.4629 - log_CH4_loss: 1.8427 - log_CO2_loss: 1.1759 - log_CO_loss: 1.6697 - log_H2O_loss: 1.1062 - log_N2O_loss: 2.5863 - log_N2_loss: 0.5043 - log_O2_loss: 0.9310 - log_O3_loss: 2.3387 - loss: 16.6523 - val_BAR-ATMOSPHERE-PRESSURE_loss: 0.4144 - val_LOG-ATMOSPHERE-TEMPERATURE_loss: 0.0857 - val_LOG-OBJECT-GRAVITY_loss: 0.1108 - val_OBJECT-RADIUS-REL-EARTH_loss: 0.1453 - val_log_C2H6_loss: 3.2315 - val_log_CH4_loss: 1.5790 - val_log_CO2_loss: 1.0285 - val_log_CO_loss: 1.7744 - val_log_H2O_loss: 0.8458 - val_log_N2O_loss: 4.1385 - val_log_N2_loss: 0.1123 - val_log_O2_loss: 0.9467 - val_log_O3_loss: 3.7096 - val_loss: 18.7195\n",
      "Epoch 3/100\n",
      "\u001b[1m819/819\u001b[0m \u001b[32m━━━━━━━━━━━━━━━━━━━━\u001b[0m\u001b[37m\u001b[0m \u001b[1m207s\u001b[0m 253ms/step - BAR-ATMOSPHERE-PRESSURE_loss: 0.6516 - LOG-ATMOSPHERE-TEMPERATURE_loss: 0.6737 - LOG-OBJECT-GRAVITY_loss: 0.3401 - OBJECT-RADIUS-REL-EARTH_loss: 0.4485 - log_C2H6_loss: 1.3126 - log_CH4_loss: 1.7097 - log_CO2_loss: 1.0665 - log_CO_loss: 1.4903 - log_H2O_loss: 1.0063 - log_N2O_loss: 2.3143 - log_N2_loss: 0.3129 - log_O2_loss: 0.8522 - log_O3_loss: 2.0977 - loss: 14.4904 - val_BAR-ATMOSPHERE-PRESSURE_loss: 0.4093 - val_LOG-ATMOSPHERE-TEMPERATURE_loss: 0.1626 - val_LOG-OBJECT-GRAVITY_loss: 0.1135 - val_OBJECT-RADIUS-REL-EARTH_loss: 0.1531 - val_log_C2H6_loss: 3.2184 - val_log_CH4_loss: 1.5672 - val_log_CO2_loss: 1.0270 - val_log_CO_loss: 1.8402 - val_log_H2O_loss: 0.7986 - val_log_N2O_loss: 4.1309 - val_log_N2_loss: 0.0978 - val_log_O2_loss: 0.9433 - val_log_O3_loss: 3.7209 - val_loss: 18.7764\n",
      "Epoch 4/100\n",
      "\u001b[1m819/819\u001b[0m \u001b[32m━━━━━━━━━━━━━━━━━━━━\u001b[0m\u001b[37m\u001b[0m \u001b[1m207s\u001b[0m 253ms/step - BAR-ATMOSPHERE-PRESSURE_loss: 0.5527 - LOG-ATMOSPHERE-TEMPERATURE_loss: 0.5663 - LOG-OBJECT-GRAVITY_loss: 0.2599 - OBJECT-RADIUS-REL-EARTH_loss: 0.3393 - log_C2H6_loss: 1.3691 - log_CH4_loss: 1.6413 - log_CO2_loss: 1.0205 - log_CO_loss: 1.4188 - log_H2O_loss: 0.9661 - log_N2O_loss: 2.3147 - log_N2_loss: 0.2232 - log_O2_loss: 0.8113 - log_O3_loss: 2.0864 - loss: 13.7737 - val_BAR-ATMOSPHERE-PRESSURE_loss: 0.4095 - val_LOG-ATMOSPHERE-TEMPERATURE_loss: 0.1490 - val_LOG-OBJECT-GRAVITY_loss: 0.1129 - val_OBJECT-RADIUS-REL-EARTH_loss: 0.1482 - val_log_C2H6_loss: 3.2399 - val_log_CH4_loss: 1.5131 - val_log_CO2_loss: 1.0138 - val_log_CO_loss: 1.8027 - val_log_H2O_loss: 0.8067 - val_log_N2O_loss: 4.1112 - val_log_N2_loss: 0.0953 - val_log_O2_loss: 0.9363 - val_log_O3_loss: 3.7252 - val_loss: 18.6474\n",
      "Epoch 5/100\n",
      "\u001b[1m819/819\u001b[0m \u001b[32m━━━━━━━━━━━━━━━━━━━━\u001b[0m\u001b[37m\u001b[0m \u001b[1m227s\u001b[0m 277ms/step - BAR-ATMOSPHERE-PRESSURE_loss: 0.4968 - LOG-ATMOSPHERE-TEMPERATURE_loss: 0.4989 - LOG-OBJECT-GRAVITY_loss: 0.2190 - OBJECT-RADIUS-REL-EARTH_loss: 0.2761 - log_C2H6_loss: 1.4878 - log_CH4_loss: 1.5546 - log_CO2_loss: 1.0024 - log_CO_loss: 1.3908 - log_H2O_loss: 0.9376 - log_N2O_loss: 2.3890 - log_N2_loss: 0.1780 - log_O2_loss: 0.7875 - log_O3_loss: 2.1468 - loss: 13.5612 - val_BAR-ATMOSPHERE-PRESSURE_loss: 0.4117 - val_LOG-ATMOSPHERE-TEMPERATURE_loss: 0.1791 - val_LOG-OBJECT-GRAVITY_loss: 0.1187 - val_OBJECT-RADIUS-REL-EARTH_loss: 0.1506 - val_log_C2H6_loss: 3.2488 - val_log_CH4_loss: 1.5011 - val_log_CO2_loss: 1.0125 - val_log_CO_loss: 1.8055 - val_log_H2O_loss: 0.7963 - val_log_N2O_loss: 4.1325 - val_log_N2_loss: 0.0935 - val_log_O2_loss: 0.9368 - val_log_O3_loss: 3.7510 - val_loss: 18.7133\n",
      "Epoch 6/100\n",
      "\u001b[1m819/819\u001b[0m \u001b[32m━━━━━━━━━━━━━━━━━━━━\u001b[0m\u001b[37m\u001b[0m \u001b[1m229s\u001b[0m 279ms/step - BAR-ATMOSPHERE-PRESSURE_loss: 0.4637 - LOG-ATMOSPHERE-TEMPERATURE_loss: 0.4479 - LOG-OBJECT-GRAVITY_loss: 0.1913 - OBJECT-RADIUS-REL-EARTH_loss: 0.2327 - log_C2H6_loss: 1.4624 - log_CH4_loss: 1.5231 - log_CO2_loss: 0.9779 - log_CO_loss: 1.3476 - log_H2O_loss: 0.9008 - log_N2O_loss: 2.3879 - log_N2_loss: 0.1615 - log_O2_loss: 0.7673 - log_O3_loss: 2.1292 - loss: 13.1829 - val_BAR-ATMOSPHERE-PRESSURE_loss: 0.4122 - val_LOG-ATMOSPHERE-TEMPERATURE_loss: 0.2233 - val_LOG-OBJECT-GRAVITY_loss: 0.1267 - val_OBJECT-RADIUS-REL-EARTH_loss: 0.1563 - val_log_C2H6_loss: 3.1282 - val_log_CH4_loss: 1.5146 - val_log_CO2_loss: 1.0169 - val_log_CO_loss: 1.8396 - val_log_H2O_loss: 0.7731 - val_log_N2O_loss: 4.1098 - val_log_N2_loss: 0.0931 - val_log_O2_loss: 0.9218 - val_log_O3_loss: 3.7108 - val_loss: 18.5983\n",
      "Epoch 7/100\n",
      "\u001b[1m819/819\u001b[0m \u001b[32m━━━━━━━━━━━━━━━━━━━━\u001b[0m\u001b[37m\u001b[0m \u001b[1m220s\u001b[0m 268ms/step - BAR-ATMOSPHERE-PRESSURE_loss: 0.4480 - LOG-ATMOSPHERE-TEMPERATURE_loss: 0.4180 - LOG-OBJECT-GRAVITY_loss: 0.1808 - OBJECT-RADIUS-REL-EARTH_loss: 0.2120 - log_C2H6_loss: 1.2380 - log_CH4_loss: 1.4947 - log_CO2_loss: 0.9661 - log_CO_loss: 1.2937 - log_H2O_loss: 0.8739 - log_N2O_loss: 2.2013 - log_N2_loss: 0.1600 - log_O2_loss: 0.7516 - log_O3_loss: 1.9744 - loss: 12.3959 - val_BAR-ATMOSPHERE-PRESSURE_loss: 0.4140 - val_LOG-ATMOSPHERE-TEMPERATURE_loss: 0.2519 - val_LOG-OBJECT-GRAVITY_loss: 0.1316 - val_OBJECT-RADIUS-REL-EARTH_loss: 0.1593 - val_log_C2H6_loss: 3.0099 - val_log_CH4_loss: 1.5324 - val_log_CO2_loss: 1.0191 - val_log_CO_loss: 1.8703 - val_log_H2O_loss: 0.7623 - val_log_N2O_loss: 4.0838 - val_log_N2_loss: 0.0932 - val_log_O2_loss: 0.9192 - val_log_O3_loss: 3.6829 - val_loss: 18.4947\n",
      "Epoch 8/100\n",
      "\u001b[1m819/819\u001b[0m \u001b[32m━━━━━━━━━━━━━━━━━━━━\u001b[0m\u001b[37m\u001b[0m \u001b[1m239s\u001b[0m 292ms/step - BAR-ATMOSPHERE-PRESSURE_loss: 0.4392 - LOG-ATMOSPHERE-TEMPERATURE_loss: 0.3944 - LOG-OBJECT-GRAVITY_loss: 0.1729 - OBJECT-RADIUS-REL-EARTH_loss: 0.1977 - log_C2H6_loss: 1.1845 - log_CH4_loss: 1.4436 - log_CO2_loss: 0.9496 - log_CO_loss: 1.2643 - log_H2O_loss: 0.8593 - log_N2O_loss: 2.1608 - log_N2_loss: 0.1598 - log_O2_loss: 0.7356 - log_O3_loss: 1.9375 - loss: 12.0767 - val_BAR-ATMOSPHERE-PRESSURE_loss: 0.4123 - val_LOG-ATMOSPHERE-TEMPERATURE_loss: 0.2422 - val_LOG-OBJECT-GRAVITY_loss: 0.1276 - val_OBJECT-RADIUS-REL-EARTH_loss: 0.1553 - val_log_C2H6_loss: 2.9415 - val_log_CH4_loss: 1.4723 - val_log_CO2_loss: 0.9949 - val_log_CO_loss: 1.8280 - val_log_H2O_loss: 0.7605 - val_log_N2O_loss: 4.0121 - val_log_N2_loss: 0.0940 - val_log_O2_loss: 0.9057 - val_log_O3_loss: 3.6228 - val_loss: 18.1181\n",
      "Epoch 9/100\n",
      "\u001b[1m819/819\u001b[0m \u001b[32m━━━━━━━━━━━━━━━━━━━━\u001b[0m\u001b[37m\u001b[0m \u001b[1m207s\u001b[0m 252ms/step - BAR-ATMOSPHERE-PRESSURE_loss: 0.4372 - LOG-ATMOSPHERE-TEMPERATURE_loss: 0.3841 - LOG-OBJECT-GRAVITY_loss: 0.1695 - OBJECT-RADIUS-REL-EARTH_loss: 0.1906 - log_C2H6_loss: 0.9667 - log_CH4_loss: 1.4520 - log_CO2_loss: 0.9485 - log_CO_loss: 1.2385 - log_H2O_loss: 0.8451 - log_N2O_loss: 1.9994 - log_N2_loss: 0.1606 - log_O2_loss: 0.7436 - log_O3_loss: 1.8319 - loss: 11.5407 - val_BAR-ATMOSPHERE-PRESSURE_loss: 0.4125 - val_LOG-ATMOSPHERE-TEMPERATURE_loss: 0.1648 - val_LOG-OBJECT-GRAVITY_loss: 0.1162 - val_OBJECT-RADIUS-REL-EARTH_loss: 0.1484 - val_log_C2H6_loss: 3.2062 - val_log_CH4_loss: 1.4684 - val_log_CO2_loss: 0.9915 - val_log_CO_loss: 1.7823 - val_log_H2O_loss: 0.7711 - val_log_N2O_loss: 4.1245 - val_log_N2_loss: 0.0933 - val_log_O2_loss: 0.9174 - val_log_O3_loss: 3.7213 - val_loss: 18.4753\n",
      "Epoch 10/100\n",
      "\u001b[1m819/819\u001b[0m \u001b[32m━━━━━━━━━━━━━━━━━━━━\u001b[0m\u001b[37m\u001b[0m \u001b[1m203s\u001b[0m 248ms/step - BAR-ATMOSPHERE-PRESSURE_loss: 0.4255 - LOG-ATMOSPHERE-TEMPERATURE_loss: 0.3680 - LOG-OBJECT-GRAVITY_loss: 0.1583 - OBJECT-RADIUS-REL-EARTH_loss: 0.1808 - log_C2H6_loss: 1.0547 - log_CH4_loss: 1.4769 - log_CO2_loss: 0.9679 - log_CO_loss: 1.2872 - log_H2O_loss: 0.8413 - log_N2O_loss: 2.1349 - log_N2_loss: 0.1603 - log_O2_loss: 0.7229 - log_O3_loss: 1.9355 - loss: 11.8834 - val_BAR-ATMOSPHERE-PRESSURE_loss: 0.4137 - val_LOG-ATMOSPHERE-TEMPERATURE_loss: 0.1839 - val_LOG-OBJECT-GRAVITY_loss: 0.1185 - val_OBJECT-RADIUS-REL-EARTH_loss: 0.1506 - val_log_C2H6_loss: 3.1032 - val_log_CH4_loss: 1.3949 - val_log_CO2_loss: 0.9620 - val_log_CO_loss: 1.7435 - val_log_H2O_loss: 0.7651 - val_log_N2O_loss: 4.0624 - val_log_N2_loss: 0.0938 - val_log_O2_loss: 0.9086 - val_log_O3_loss: 3.6660 - val_loss: 18.1133\n",
      "Epoch 11/100\n",
      "\u001b[1m819/819\u001b[0m \u001b[32m━━━━━━━━━━━━━━━━━━━━\u001b[0m\u001b[37m\u001b[0m \u001b[1m205s\u001b[0m 250ms/step - BAR-ATMOSPHERE-PRESSURE_loss: 0.4235 - LOG-ATMOSPHERE-TEMPERATURE_loss: 0.3613 - LOG-OBJECT-GRAVITY_loss: 0.1504 - OBJECT-RADIUS-REL-EARTH_loss: 0.1761 - log_C2H6_loss: 0.9793 - log_CH4_loss: 1.4473 - log_CO2_loss: 0.9464 - log_CO_loss: 1.2547 - log_H2O_loss: 0.8190 - log_N2O_loss: 2.0759 - log_N2_loss: 0.1595 - log_O2_loss: 0.7235 - log_O3_loss: 1.8641 - loss: 11.5456 - val_BAR-ATMOSPHERE-PRESSURE_loss: 0.4132 - val_LOG-ATMOSPHERE-TEMPERATURE_loss: 0.1750 - val_LOG-OBJECT-GRAVITY_loss: 0.1168 - val_OBJECT-RADIUS-REL-EARTH_loss: 0.1498 - val_log_C2H6_loss: 3.0749 - val_log_CH4_loss: 1.3788 - val_log_CO2_loss: 0.9534 - val_log_CO_loss: 1.7247 - val_log_H2O_loss: 0.7508 - val_log_N2O_loss: 4.0288 - val_log_N2_loss: 0.0938 - val_log_O2_loss: 0.9103 - val_log_O3_loss: 3.6417 - val_loss: 17.9534\n",
      "Epoch 12/100\n",
      "\u001b[1m819/819\u001b[0m \u001b[32m━━━━━━━━━━━━━━━━━━━━\u001b[0m\u001b[37m\u001b[0m \u001b[1m205s\u001b[0m 250ms/step - BAR-ATMOSPHERE-PRESSURE_loss: 0.4194 - LOG-ATMOSPHERE-TEMPERATURE_loss: 0.3516 - LOG-OBJECT-GRAVITY_loss: 0.1469 - OBJECT-RADIUS-REL-EARTH_loss: 0.1710 - log_C2H6_loss: 0.9209 - log_CH4_loss: 1.4055 - log_CO2_loss: 0.9306 - log_CO_loss: 1.2514 - log_H2O_loss: 0.7799 - log_N2O_loss: 2.0714 - log_N2_loss: 0.1581 - log_O2_loss: 0.6943 - log_O3_loss: 1.8394 - loss: 11.3013 - val_BAR-ATMOSPHERE-PRESSURE_loss: 0.4125 - val_LOG-ATMOSPHERE-TEMPERATURE_loss: 0.1316 - val_LOG-OBJECT-GRAVITY_loss: 0.1133 - val_OBJECT-RADIUS-REL-EARTH_loss: 0.1467 - val_log_C2H6_loss: 3.3025 - val_log_CH4_loss: 1.3779 - val_log_CO2_loss: 0.9520 - val_log_CO_loss: 1.7221 - val_log_H2O_loss: 0.7580 - val_log_N2O_loss: 4.1122 - val_log_N2_loss: 0.0933 - val_log_O2_loss: 0.9191 - val_log_O3_loss: 3.7247 - val_loss: 18.3120\n",
      "Epoch 13/100\n",
      "\u001b[1m819/819\u001b[0m \u001b[32m━━━━━━━━━━━━━━━━━━━━\u001b[0m\u001b[37m\u001b[0m \u001b[1m206s\u001b[0m 252ms/step - BAR-ATMOSPHERE-PRESSURE_loss: 0.4201 - LOG-ATMOSPHERE-TEMPERATURE_loss: 0.3233 - LOG-OBJECT-GRAVITY_loss: 0.1370 - OBJECT-RADIUS-REL-EARTH_loss: 0.1640 - log_C2H6_loss: 1.0547 - log_CH4_loss: 1.4314 - log_CO2_loss: 0.9427 - log_CO_loss: 1.2835 - log_H2O_loss: 0.7687 - log_N2O_loss: 2.2056 - log_N2_loss: 0.1578 - log_O2_loss: 0.6868 - log_O3_loss: 1.9965 - loss: 11.7306 - val_BAR-ATMOSPHERE-PRESSURE_loss: 0.4140 - val_LOG-ATMOSPHERE-TEMPERATURE_loss: 0.1613 - val_LOG-OBJECT-GRAVITY_loss: 0.1163 - val_OBJECT-RADIUS-REL-EARTH_loss: 0.1485 - val_log_C2H6_loss: 3.0473 - val_log_CH4_loss: 1.3006 - val_log_CO2_loss: 0.9241 - val_log_CO_loss: 1.6833 - val_log_H2O_loss: 0.7424 - val_log_N2O_loss: 3.9784 - val_log_N2_loss: 0.0943 - val_log_O2_loss: 0.9030 - val_log_O3_loss: 3.6008 - val_loss: 17.6462\n",
      "Epoch 14/100\n",
      "\u001b[1m819/819\u001b[0m \u001b[32m━━━━━━━━━━━━━━━━━━━━\u001b[0m\u001b[37m\u001b[0m \u001b[1m204s\u001b[0m 249ms/step - BAR-ATMOSPHERE-PRESSURE_loss: 0.4250 - LOG-ATMOSPHERE-TEMPERATURE_loss: 0.3087 - LOG-OBJECT-GRAVITY_loss: 0.1322 - OBJECT-RADIUS-REL-EARTH_loss: 0.1616 - log_C2H6_loss: 0.8560 - log_CH4_loss: 1.3143 - log_CO2_loss: 0.8913 - log_CO_loss: 1.1827 - log_H2O_loss: 0.7804 - log_N2O_loss: 1.9810 - log_N2_loss: 0.1584 - log_O2_loss: 0.6771 - log_O3_loss: 1.7888 - loss: 10.8122 - val_BAR-ATMOSPHERE-PRESSURE_loss: 0.4125 - val_LOG-ATMOSPHERE-TEMPERATURE_loss: 0.2374 - val_LOG-OBJECT-GRAVITY_loss: 0.1170 - val_OBJECT-RADIUS-REL-EARTH_loss: 0.1487 - val_log_C2H6_loss: 2.6425 - val_log_CH4_loss: 1.3522 - val_log_CO2_loss: 0.9493 - val_log_CO_loss: 1.7066 - val_log_H2O_loss: 0.6953 - val_log_N2O_loss: 3.7970 - val_log_N2_loss: 0.0937 - val_log_O2_loss: 0.8726 - val_log_O3_loss: 3.4294 - val_loss: 16.9551\n",
      "Epoch 15/100\n",
      "\u001b[1m819/819\u001b[0m \u001b[32m━━━━━━━━━━━━━━━━━━━━\u001b[0m\u001b[37m\u001b[0m \u001b[1m205s\u001b[0m 250ms/step - BAR-ATMOSPHERE-PRESSURE_loss: 0.4135 - LOG-ATMOSPHERE-TEMPERATURE_loss: 0.3171 - LOG-OBJECT-GRAVITY_loss: 0.1298 - OBJECT-RADIUS-REL-EARTH_loss: 0.1579 - log_C2H6_loss: 0.8253 - log_CH4_loss: 1.3514 - log_CO2_loss: 0.8973 - log_CO_loss: 1.1860 - log_H2O_loss: 0.7661 - log_N2O_loss: 1.9447 - log_N2_loss: 0.1557 - log_O2_loss: 0.6622 - log_O3_loss: 1.7232 - loss: 10.6804 - val_BAR-ATMOSPHERE-PRESSURE_loss: 0.4101 - val_LOG-ATMOSPHERE-TEMPERATURE_loss: 0.1582 - val_LOG-OBJECT-GRAVITY_loss: 0.1125 - val_OBJECT-RADIUS-REL-EARTH_loss: 0.1456 - val_log_C2H6_loss: 2.9533 - val_log_CH4_loss: 1.3024 - val_log_CO2_loss: 0.9244 - val_log_CO_loss: 1.6797 - val_log_H2O_loss: 0.7144 - val_log_N2O_loss: 3.9452 - val_log_N2_loss: 0.0939 - val_log_O2_loss: 0.8974 - val_log_O3_loss: 3.5675 - val_loss: 17.4239\n",
      "Epoch 16/100\n",
      "\u001b[1m819/819\u001b[0m \u001b[32m━━━━━━━━━━━━━━━━━━━━\u001b[0m\u001b[37m\u001b[0m \u001b[1m204s\u001b[0m 248ms/step - BAR-ATMOSPHERE-PRESSURE_loss: 0.4165 - LOG-ATMOSPHERE-TEMPERATURE_loss: 0.2930 - LOG-OBJECT-GRAVITY_loss: 0.1254 - OBJECT-RADIUS-REL-EARTH_loss: 0.1558 - log_C2H6_loss: 0.9294 - log_CH4_loss: 1.3681 - log_CO2_loss: 0.9044 - log_CO_loss: 1.2156 - log_H2O_loss: 0.7382 - log_N2O_loss: 2.0859 - log_N2_loss: 0.1551 - log_O2_loss: 0.6623 - log_O3_loss: 1.8724 - loss: 11.0700 - val_BAR-ATMOSPHERE-PRESSURE_loss: 0.4109 - val_LOG-ATMOSPHERE-TEMPERATURE_loss: 0.1822 - val_LOG-OBJECT-GRAVITY_loss: 0.1133 - val_OBJECT-RADIUS-REL-EARTH_loss: 0.1463 - val_log_C2H6_loss: 2.7166 - val_log_CH4_loss: 1.3386 - val_log_CO2_loss: 0.9431 - val_log_CO_loss: 1.6898 - val_log_H2O_loss: 0.7322 - val_log_N2O_loss: 3.8059 - val_log_N2_loss: 0.0930 - val_log_O2_loss: 0.8762 - val_log_O3_loss: 3.4362 - val_loss: 16.9883\n",
      "Epoch 17/100\n",
      "\u001b[1m819/819\u001b[0m \u001b[32m━━━━━━━━━━━━━━━━━━━━\u001b[0m\u001b[37m\u001b[0m \u001b[1m204s\u001b[0m 249ms/step - BAR-ATMOSPHERE-PRESSURE_loss: 0.4119 - LOG-ATMOSPHERE-TEMPERATURE_loss: 0.2781 - LOG-OBJECT-GRAVITY_loss: 0.1198 - OBJECT-RADIUS-REL-EARTH_loss: 0.1503 - log_C2H6_loss: 0.7981 - log_CH4_loss: 1.3489 - log_CO2_loss: 0.8913 - log_CO_loss: 1.1644 - log_H2O_loss: 0.7418 - log_N2O_loss: 1.9077 - log_N2_loss: 0.1538 - log_O2_loss: 0.6466 - log_O3_loss: 1.6883 - loss: 10.4459 - val_BAR-ATMOSPHERE-PRESSURE_loss: 0.4075 - val_LOG-ATMOSPHERE-TEMPERATURE_loss: 0.1708 - val_LOG-OBJECT-GRAVITY_loss: 0.1101 - val_OBJECT-RADIUS-REL-EARTH_loss: 0.1434 - val_log_C2H6_loss: 2.6845 - val_log_CH4_loss: 1.3077 - val_log_CO2_loss: 0.9293 - val_log_CO_loss: 1.6625 - val_log_H2O_loss: 0.7329 - val_log_N2O_loss: 3.7379 - val_log_N2_loss: 0.0922 - val_log_O2_loss: 0.8713 - val_log_O3_loss: 3.3774 - val_loss: 16.7224\n",
      "Epoch 18/100\n",
      "\u001b[1m819/819\u001b[0m \u001b[32m━━━━━━━━━━━━━━━━━━━━\u001b[0m\u001b[37m\u001b[0m \u001b[1m204s\u001b[0m 249ms/step - BAR-ATMOSPHERE-PRESSURE_loss: 0.4075 - LOG-ATMOSPHERE-TEMPERATURE_loss: 0.2645 - LOG-OBJECT-GRAVITY_loss: 0.1152 - OBJECT-RADIUS-REL-EARTH_loss: 0.1471 - log_C2H6_loss: 0.7386 - log_CH4_loss: 1.2916 - log_CO2_loss: 0.8712 - log_CO_loss: 1.1256 - log_H2O_loss: 0.7338 - log_N2O_loss: 1.8206 - log_N2_loss: 0.1517 - log_O2_loss: 0.6389 - log_O3_loss: 1.6148 - loss: 10.0631 - val_BAR-ATMOSPHERE-PRESSURE_loss: 0.4018 - val_LOG-ATMOSPHERE-TEMPERATURE_loss: 0.1609 - val_LOG-OBJECT-GRAVITY_loss: 0.1059 - val_OBJECT-RADIUS-REL-EARTH_loss: 0.1397 - val_log_C2H6_loss: 2.6465 - val_log_CH4_loss: 1.2925 - val_log_CO2_loss: 0.9229 - val_log_CO_loss: 1.6408 - val_log_H2O_loss: 0.7318 - val_log_N2O_loss: 3.6753 - val_log_N2_loss: 0.0904 - val_log_O2_loss: 0.8674 - val_log_O3_loss: 3.3262 - val_loss: 16.4881\n",
      "Epoch 19/100\n",
      "\u001b[1m819/819\u001b[0m \u001b[32m━━━━━━━━━━━━━━━━━━━━\u001b[0m\u001b[37m\u001b[0m \u001b[1m205s\u001b[0m 250ms/step - BAR-ATMOSPHERE-PRESSURE_loss: 0.4038 - LOG-ATMOSPHERE-TEMPERATURE_loss: 0.2545 - LOG-OBJECT-GRAVITY_loss: 0.1116 - OBJECT-RADIUS-REL-EARTH_loss: 0.1444 - log_C2H6_loss: 0.6510 - log_CH4_loss: 1.2598 - log_CO2_loss: 0.8619 - log_CO_loss: 1.0958 - log_H2O_loss: 0.7278 - log_N2O_loss: 1.7244 - log_N2_loss: 0.1497 - log_O2_loss: 0.6321 - log_O3_loss: 1.5267 - loss: 9.6828 - val_BAR-ATMOSPHERE-PRESSURE_loss: 0.3979 - val_LOG-ATMOSPHERE-TEMPERATURE_loss: 0.1550 - val_LOG-OBJECT-GRAVITY_loss: 0.1029 - val_OBJECT-RADIUS-REL-EARTH_loss: 0.1373 - val_log_C2H6_loss: 2.5748 - val_log_CH4_loss: 1.2778 - val_log_CO2_loss: 0.9178 - val_log_CO_loss: 1.6152 - val_log_H2O_loss: 0.7160 - val_log_N2O_loss: 3.5722 - val_log_N2_loss: 0.0883 - val_log_O2_loss: 0.8548 - val_log_O3_loss: 3.2366 - val_loss: 16.1205\n",
      "Epoch 20/100\n",
      "\u001b[1m819/819\u001b[0m \u001b[32m━━━━━━━━━━━━━━━━━━━━\u001b[0m\u001b[37m\u001b[0m \u001b[1m205s\u001b[0m 251ms/step - BAR-ATMOSPHERE-PRESSURE_loss: 0.4017 - LOG-ATMOSPHERE-TEMPERATURE_loss: 0.2442 - LOG-OBJECT-GRAVITY_loss: 0.1089 - OBJECT-RADIUS-REL-EARTH_loss: 0.1422 - log_C2H6_loss: 0.6351 - log_CH4_loss: 1.2243 - log_CO2_loss: 0.8492 - log_CO_loss: 1.0676 - log_H2O_loss: 0.7184 - log_N2O_loss: 1.6738 - log_N2_loss: 0.1480 - log_O2_loss: 0.6293 - log_O3_loss: 1.4807 - loss: 9.4599 - val_BAR-ATMOSPHERE-PRESSURE_loss: 0.4005 - val_LOG-ATMOSPHERE-TEMPERATURE_loss: 0.1448 - val_LOG-OBJECT-GRAVITY_loss: 0.1029 - val_OBJECT-RADIUS-REL-EARTH_loss: 0.1380 - val_log_C2H6_loss: 2.5822 - val_log_CH4_loss: 1.2642 - val_log_CO2_loss: 0.9134 - val_log_CO_loss: 1.5920 - val_log_H2O_loss: 0.7162 - val_log_N2O_loss: 3.5378 - val_log_N2_loss: 0.0893 - val_log_O2_loss: 0.8419 - val_log_O3_loss: 3.2047 - val_loss: 15.9968\n",
      "Epoch 21/100\n",
      "\u001b[1m819/819\u001b[0m \u001b[32m━━━━━━━━━━━━━━━━━━━━\u001b[0m\u001b[37m\u001b[0m \u001b[1m203s\u001b[0m 248ms/step - BAR-ATMOSPHERE-PRESSURE_loss: 0.4027 - LOG-ATMOSPHERE-TEMPERATURE_loss: 0.2351 - LOG-OBJECT-GRAVITY_loss: 0.1075 - OBJECT-RADIUS-REL-EARTH_loss: 0.1414 - log_C2H6_loss: 0.6106 - log_CH4_loss: 1.2092 - log_CO2_loss: 0.8457 - log_CO_loss: 1.0578 - log_H2O_loss: 0.7118 - log_N2O_loss: 1.6419 - log_N2_loss: 0.1477 - log_O2_loss: 0.6256 - log_O3_loss: 1.4597 - loss: 9.3304 - val_BAR-ATMOSPHERE-PRESSURE_loss: 0.3961 - val_LOG-ATMOSPHERE-TEMPERATURE_loss: 0.1424 - val_LOG-OBJECT-GRAVITY_loss: 0.1022 - val_OBJECT-RADIUS-REL-EARTH_loss: 0.1369 - val_log_C2H6_loss: 2.7250 - val_log_CH4_loss: 1.3374 - val_log_CO2_loss: 0.9387 - val_log_CO_loss: 1.6609 - val_log_H2O_loss: 0.7000 - val_log_N2O_loss: 3.7477 - val_log_N2_loss: 0.0922 - val_log_O2_loss: 0.8691 - val_log_O3_loss: 3.3929 - val_loss: 16.7254\n",
      "Epoch 22/100\n",
      "\u001b[1m819/819\u001b[0m \u001b[32m━━━━━━━━━━━━━━━━━━━━\u001b[0m\u001b[37m\u001b[0m \u001b[1m202s\u001b[0m 247ms/step - BAR-ATMOSPHERE-PRESSURE_loss: 0.4019 - LOG-ATMOSPHERE-TEMPERATURE_loss: 0.2250 - LOG-OBJECT-GRAVITY_loss: 0.1066 - OBJECT-RADIUS-REL-EARTH_loss: 0.1410 - log_C2H6_loss: 0.6341 - log_CH4_loss: 1.2286 - log_CO2_loss: 0.8462 - log_CO_loss: 1.0579 - log_H2O_loss: 0.7019 - log_N2O_loss: 1.6748 - log_N2_loss: 0.1474 - log_O2_loss: 0.6243 - log_O3_loss: 1.4886 - loss: 9.4092 - val_BAR-ATMOSPHERE-PRESSURE_loss: 0.3968 - val_LOG-ATMOSPHERE-TEMPERATURE_loss: 0.1187 - val_LOG-OBJECT-GRAVITY_loss: 0.1019 - val_OBJECT-RADIUS-REL-EARTH_loss: 0.1370 - val_log_C2H6_loss: 2.7750 - val_log_CH4_loss: 1.2421 - val_log_CO2_loss: 0.8915 - val_log_CO_loss: 1.5807 - val_log_H2O_loss: 0.7129 - val_log_N2O_loss: 3.6963 - val_log_N2_loss: 0.0917 - val_log_O2_loss: 0.8643 - val_log_O3_loss: 3.3402 - val_loss: 16.4247\n",
      "Epoch 23/100\n",
      "\u001b[1m819/819\u001b[0m \u001b[32m━━━━━━━━━━━━━━━━━━━━\u001b[0m\u001b[37m\u001b[0m \u001b[1m203s\u001b[0m 248ms/step - BAR-ATMOSPHERE-PRESSURE_loss: 0.4010 - LOG-ATMOSPHERE-TEMPERATURE_loss: 0.2214 - LOG-OBJECT-GRAVITY_loss: 0.1051 - OBJECT-RADIUS-REL-EARTH_loss: 0.1399 - log_C2H6_loss: 0.7030 - log_CH4_loss: 1.2544 - log_CO2_loss: 0.8507 - log_CO_loss: 1.0706 - log_H2O_loss: 0.6984 - log_N2O_loss: 1.7247 - log_N2_loss: 0.1467 - log_O2_loss: 0.6113 - log_O3_loss: 1.5175 - loss: 9.5726 - val_BAR-ATMOSPHERE-PRESSURE_loss: 0.4026 - val_LOG-ATMOSPHERE-TEMPERATURE_loss: 0.1070 - val_LOG-OBJECT-GRAVITY_loss: 0.1027 - val_OBJECT-RADIUS-REL-EARTH_loss: 0.1387 - val_log_C2H6_loss: 2.9145 - val_log_CH4_loss: 1.1731 - val_log_CO2_loss: 0.8606 - val_log_CO_loss: 1.5399 - val_log_H2O_loss: 0.7422 - val_log_N2O_loss: 3.7665 - val_log_N2_loss: 0.0928 - val_log_O2_loss: 0.8796 - val_log_O3_loss: 3.4005 - val_loss: 16.6008\n",
      "Epoch 24/100\n",
      "\u001b[1m819/819\u001b[0m \u001b[32m━━━━━━━━━━━━━━━━━━━━\u001b[0m\u001b[37m\u001b[0m \u001b[1m203s\u001b[0m 248ms/step - BAR-ATMOSPHERE-PRESSURE_loss: 0.3997 - LOG-ATMOSPHERE-TEMPERATURE_loss: 0.2099 - LOG-OBJECT-GRAVITY_loss: 0.1034 - OBJECT-RADIUS-REL-EARTH_loss: 0.1385 - log_C2H6_loss: 0.6904 - log_CH4_loss: 1.2034 - log_CO2_loss: 0.8347 - log_CO_loss: 1.0386 - log_H2O_loss: 0.6986 - log_N2O_loss: 1.6781 - log_N2_loss: 0.1476 - log_O2_loss: 0.6156 - log_O3_loss: 1.4879 - loss: 9.3720 - val_BAR-ATMOSPHERE-PRESSURE_loss: 0.4056 - val_LOG-ATMOSPHERE-TEMPERATURE_loss: 0.1106 - val_LOG-OBJECT-GRAVITY_loss: 0.1032 - val_OBJECT-RADIUS-REL-EARTH_loss: 0.1397 - val_log_C2H6_loss: 2.7571 - val_log_CH4_loss: 1.1951 - val_log_CO2_loss: 0.8640 - val_log_CO_loss: 1.5068 - val_log_H2O_loss: 0.7567 - val_log_N2O_loss: 3.5922 - val_log_N2_loss: 0.0926 - val_log_O2_loss: 0.8525 - val_log_O3_loss: 3.2349 - val_loss: 16.0733\n",
      "Epoch 25/100\n",
      "\u001b[1m819/819\u001b[0m \u001b[32m━━━━━━━━━━━━━━━━━━━━\u001b[0m\u001b[37m\u001b[0m \u001b[1m203s\u001b[0m 248ms/step - BAR-ATMOSPHERE-PRESSURE_loss: 0.3987 - LOG-ATMOSPHERE-TEMPERATURE_loss: 0.2026 - LOG-OBJECT-GRAVITY_loss: 0.1022 - OBJECT-RADIUS-REL-EARTH_loss: 0.1375 - log_C2H6_loss: 0.6300 - log_CH4_loss: 1.1966 - log_CO2_loss: 0.8302 - log_CO_loss: 1.0301 - log_H2O_loss: 0.6958 - log_N2O_loss: 1.6389 - log_N2_loss: 0.1479 - log_O2_loss: 0.6198 - log_O3_loss: 1.4388 - loss: 9.1933 - val_BAR-ATMOSPHERE-PRESSURE_loss: 0.3998 - val_LOG-ATMOSPHERE-TEMPERATURE_loss: 0.1140 - val_LOG-OBJECT-GRAVITY_loss: 0.1020 - val_OBJECT-RADIUS-REL-EARTH_loss: 0.1378 - val_log_C2H6_loss: 2.7338 - val_log_CH4_loss: 1.2204 - val_log_CO2_loss: 0.8798 - val_log_CO_loss: 1.5501 - val_log_H2O_loss: 0.7155 - val_log_N2O_loss: 3.5993 - val_log_N2_loss: 0.0917 - val_log_O2_loss: 0.8552 - val_log_O3_loss: 3.2484 - val_loss: 16.1107\n"
     ]
    }
   ],
   "source": [
    "with strategy.scope():\n",
    "  model = build_model()\n",
    "\n",
    "  epochs = 100\n",
    "\n",
    "  early_stopping = tf.keras.callbacks.EarlyStopping(\n",
    "            monitor='val_loss', patience=5, restore_best_weights=True)\n",
    "\n",
    "  hist = model.fit(train_ds, epochs=epochs, \n",
    "                  validation_data=val_ds, \n",
    "                  # steps_per_epoch=steps_per_epoch, \n",
    "                  # validation_steps=validation_steps,\n",
    "                  callbacks=[early_stopping])"
   ]
  },
  {
   "cell_type": "code",
   "execution_count": 11,
   "metadata": {},
   "outputs": [
    {
     "data": {
      "image/png": "[encoded data removed]",
      "text/plain": [
       "<Figure size 640x480 with 1 Axes>"
      ]
     },
     "metadata": {},
     "output_type": "display_data"
    }
   ],
   "source": [
    "plt.plot(range(25), hist.history[\"loss\"], marker=\"o\", label=\"train loss\")\n",
    "plt.plot(range(25), hist.history[\"val_loss\"], marker=\"o\", label=\"validation loss\")\n",
    "plt.legend();"
   ]
  }
 ],
 "metadata": {
  "kernelspec": {
   "display_name": "psg-venv",
   "language": "python",
   "name": "python3"
  },
  "language_info": {
   "codemirror_mode": {
    "name": "ipython",
    "version": 3
   },
   "file_extension": ".py",
   "mimetype": "text/x-python",
   "name": "python",
   "nbconvert_exporter": "python",
   "pygments_lexer": "ipython3",
   "version": "3.10.12"
  }
 },
 "nbformat": 4,
 "nbformat_minor": 2
}
