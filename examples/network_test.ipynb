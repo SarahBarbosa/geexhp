{
 "cells": [
  {
   "cell_type": "markdown",
   "metadata": {},
   "source": [
    "# Setup"
   ]
  },
  {
   "cell_type": "code",
   "execution_count": 1,
   "metadata": {},
   "outputs": [],
   "source": [
    "import os\n",
    "os.environ['TF_CPP_MIN_LOG_LEVEL'] = '3'\n",
    "\n",
    "import tensorflow as tf\n",
    "from geexhp import datavis as dvis\n",
    "import matplotlib.pyplot as plt\n",
    "dvis.configure_matplotlib()"
   ]
  },
  {
   "cell_type": "code",
   "execution_count": 2,
   "metadata": {},
   "outputs": [
    {
     "name": "stdout",
     "output_type": "stream",
     "text": [
      "INFO:tensorflow:Using MirroredStrategy with devices ('/job:localhost/replica:0/task:0/device:CPU:0',)\n"
     ]
    }
   ],
   "source": [
    "strategy = tf.distribute.MirroredStrategy()"
   ]
  },
  {
   "cell_type": "markdown",
   "metadata": {},
   "source": [
    "## Functions"
   ]
  },
  {
   "cell_type": "code",
   "execution_count": 3,
   "metadata": {},
   "outputs": [],
   "source": [
    "# Parsing function.\n",
    "def parse_example(example_proto, input, output):\n",
    "    def _dense_features_process(parsed_features):\n",
    "        parsed_features = tf.io.parse_single_example(example_proto, parsed_features)  \n",
    "\n",
    "        dense_features_input = {\n",
    "            key: tf.sparse.to_dense(value, default_value=0.0)\n",
    "            if isinstance(value, tf.SparseTensor) else value\n",
    "            for key, value in parsed_features.items()\n",
    "        }\n",
    "        \n",
    "        return dense_features_input\n",
    "    \n",
    "    parsed_input = _dense_features_process(input)\n",
    "    parsed_output = _dense_features_process(output)\n",
    "\n",
    "    return parsed_input, parsed_output"
   ]
  },
  {
   "cell_type": "code",
   "execution_count": 4,
   "metadata": {},
   "outputs": [],
   "source": [
    "def read_tfrecord(file, batch_size = 500):\n",
    "    # Define feature description for parsing.\n",
    "    #   Comment every feature that will not be used.\n",
    "    input = {\n",
    "        'NOISY_ALBEDO_B-NIR' : tf.io.VarLenFeature(tf.float32),\n",
    "        'NOISY_ALBEDO_B-UV' : tf.io.VarLenFeature(tf.float32),\n",
    "        'NOISY_ALBEDO_B-Vis' : tf.io.VarLenFeature(tf.float32),\n",
    "\n",
    "        # 'NOISY_ALBEDO_SS-NIR' : tf.io.VarLenFeature(tf.float32),\n",
    "        # 'NOISY_ALBEDO_SS-UV' : tf.io.VarLenFeature(tf.float32),\n",
    "        # 'NOISY_ALBEDO_SS-Vis' : tf.io.VarLenFeature(tf.float32),\n",
    "\n",
    "        # 'NOISY_ALBEDO_B-NIR_norm' : tf.io.VarLenFeature(tf.float32),\n",
    "        # 'NOISY_ALBEDO_B-UV_norm' : tf.io.VarLenFeature(tf.float32),\n",
    "        # 'NOISY_ALBEDO_B-Vis_norm' : tf.io.VarLenFeature(tf.float32),\n",
    "        \n",
    "        # 'NOISY_ALBEDO_SS-NIR_norm' : tf.io.VarLenFeature(tf.float32),\n",
    "        # 'NOISY_ALBEDO_SS-UV_norm' : tf.io.VarLenFeature(tf.float32),\n",
    "        # 'NOISY_ALBEDO_SS-Vis_norm' : tf.io.VarLenFeature(tf.float32),\n",
    "    }\n",
    "\n",
    "    output = {\n",
    "        \"OBJECT-RADIUS-REL-EARTH\" : tf.io.FixedLenFeature([], tf.float32),\n",
    "        \"LOG-OBJECT-GRAVITY\" : tf.io.FixedLenFeature([], tf.float32),\n",
    "        \"LOG-ATMOSPHERE-TEMPERATURE\" : tf.io.FixedLenFeature([], tf.float32),\n",
    "        \"BAR-ATMOSPHERE-PRESSURE\" : tf.io.FixedLenFeature([], tf.float32),\n",
    "\n",
    "        # 'OBJECT-DIAMETER' : tf.io.FixedLenFeature([], tf.float32),\n",
    "        # 'OBJECT-GRAVITY' : tf.io.FixedLenFeature([], tf.float32),\n",
    "        # 'ATMOSPHERE-TEMPERATURE' : tf.io.FixedLenFeature([], tf.float32),\n",
    "        # 'ATMOSPHERE-PRESSURE' : tf.io.FixedLenFeature([], tf.float32),\n",
    "        \n",
    "        # 'Earth_type' : tf.io.FixedLenFeature([], tf.string),\n",
    "\n",
    "        'log_C2H6' : tf.io.FixedLenFeature([], tf.float32),\n",
    "        'log_CH4' : tf.io.FixedLenFeature([], tf.float32),\n",
    "        'log_CO' : tf.io.FixedLenFeature([], tf.float32),\n",
    "        'log_CO2' : tf.io.FixedLenFeature([], tf.float32),\n",
    "        'log_H2O' : tf.io.FixedLenFeature([], tf.float32),\n",
    "        'log_N2' : tf.io.FixedLenFeature([], tf.float32),\n",
    "        'log_N2O' : tf.io.FixedLenFeature([], tf.float32),\n",
    "        'log_O2' : tf.io.FixedLenFeature([], tf.float32),\n",
    "        'log_O3' : tf.io.FixedLenFeature([], tf.float32)\n",
    "    }\n",
    "\n",
    "    # Read TFRecord.\n",
    "    dataset = tf.data.TFRecordDataset(file)\n",
    "\n",
    "    parsed_dataset = dataset.map(lambda x: parse_example(x, input, output), num_parallel_calls=tf.data.AUTOTUNE)\n",
    "\n",
    "    parsed_dataset = parsed_dataset.batch(batch_size, drop_remainder=False)\n",
    "    parsed_dataset = parsed_dataset.prefetch(tf.data.AUTOTUNE)\n",
    "    parsed_dataset = tf.data.Dataset.range(1).interleave(lambda _: parsed_dataset, num_parallel_calls=tf.data.AUTOTUNE)\n",
    "\n",
    "    return parsed_dataset"
   ]
  },
  {
   "cell_type": "markdown",
   "metadata": {},
   "source": [
    "# Run"
   ]
  },
  {
   "cell_type": "code",
   "execution_count": 5,
   "metadata": {},
   "outputs": [],
   "source": [
    "train_ds = read_tfrecord(\"../data/train.tfrecord\")\n",
    "val_ds = read_tfrecord(\"../data/val.tfrecord\")\n",
    "test_ds = read_tfrecord(\"../data/test.tfrecord\")"
   ]
  },
  {
   "cell_type": "code",
   "execution_count": 6,
   "metadata": {},
   "outputs": [],
   "source": [
    "def build_model():\n",
    "    outputs_list = [\n",
    "        \"OBJECT-RADIUS-REL-EARTH\",\n",
    "        \"LOG-OBJECT-GRAVITY\",\n",
    "        \"LOG-ATMOSPHERE-TEMPERATURE\",\n",
    "        \"BAR-ATMOSPHERE-PRESSURE\",\n",
    "        'log_C2H6',\n",
    "        'log_CH4',\n",
    "        'log_CO',\n",
    "        'log_CO2',\n",
    "        'log_H2O',\n",
    "        'log_N2',\n",
    "        'log_N2O',\n",
    "        'log_O2',\n",
    "        'log_O3'\n",
    "    ]\n",
    "    \n",
    "    input_uv = tf.keras.layers.Input(shape = (8,), name='NOISY_ALBEDO_B-UV')\n",
    "    input_vis = tf.keras.layers.Input(shape = (94,), name='NOISY_ALBEDO_B-Vis')\n",
    "    input_nir = tf.keras.layers.Input(shape = (49,), name='NOISY_ALBEDO_B-NIR')\n",
    "\n",
    "    x = tf.keras.layers.Concatenate()([input_uv, input_vis, input_nir])\n",
    "\n",
    "    # Add a channel dimension to make it compatible with Conv1D\n",
    "    x = tf.keras.layers.Reshape((151, 1))(x)\n",
    "\n",
    "    x = tf.keras.layers.Conv1D(48, 5, activation='swish')(x)\n",
    "    x = tf.keras.layers.Conv1D(48, 5, activation='swish')(x)\n",
    "    x = tf.keras.layers.MaxPooling1D(pool_size=2)(x)\n",
    "    x = tf.keras.layers.BatchNormalization()(x)\n",
    "\n",
    "    x = tf.keras.layers.Conv1D(16, 5, activation='swish')(x)\n",
    "    x = tf.keras.layers.Conv1D(16, 5, activation='swish')(x)\n",
    "    x = tf.keras.layers.MaxPooling1D(pool_size=2)(x)\n",
    "    x = tf.keras.layers.BatchNormalization()(x)\n",
    "\n",
    "    x = tf.keras.layers.Conv1D(16, 5, activation='swish')(x)\n",
    "    x = tf.keras.layers.Conv1D(16, 5, activation='swish')(x)\n",
    "    x = tf.keras.layers.MaxPooling1D(pool_size=2)(x)\n",
    "    x = tf.keras.layers.BatchNormalization()(x)\n",
    "\n",
    "    x = tf.keras.layers.Flatten()(x)\n",
    "\n",
    "    x = tf.keras.layers.Dense(384, activation='relu', kernel_regularizer=tf.keras.regularizers.l2(1e-5))(x)\n",
    "    x = tf.keras.layers.Dropout(0.2)(x)\n",
    "    x = tf.keras.layers.Dense(128, activation='relu', kernel_regularizer=tf.keras.regularizers.l2(1e-5))(x)\n",
    "    x = tf.keras.layers.Dropout(0.2)(x)\n",
    "\n",
    "    # Output Layers\n",
    "    outputs = {}\n",
    "    for output_name in outputs_list:\n",
    "        output = tf.keras.layers.Dense(\n",
    "            units=1,\n",
    "            activation='linear',\n",
    "            kernel_regularizer=tf.keras.regularizers.l1(1e-5),\n",
    "            name=output_name\n",
    "        )(x)\n",
    "        outputs[output_name] = output\n",
    "\n",
    "    losses = {output_name: 'mae' for output_name in outputs_list}\n",
    "\n",
    "    inpts = [input_uv, input_vis, input_nir]\n",
    "\n",
    "    learning_rate = 1e-3\n",
    "    beta_1 = 0.9\n",
    "    beta_2 = 0.999\n",
    "    epsilon = 1e-5\n",
    "\n",
    "    opt = tf.keras.optimizers.Adam(learning_rate=learning_rate, beta_1=beta_1, beta_2=beta_2, epsilon=epsilon)\n",
    "\n",
    "    model = tf.keras.Model(inputs=inpts, outputs=outputs, name=\"test_1\")\n",
    "    model.compile(optimizer=opt, loss=losses)\n",
    "\n",
    "    return model"
   ]
  },
  {
   "cell_type": "code",
   "execution_count": null,
   "metadata": {},
   "outputs": [],
   "source": [
    "# This is becaouse:\n",
    "# UserWarning: Your input ran out of data; interrupting training. \n",
    "# Make sure that your dataset or generator can generate at least `steps_per_epoch * epochs` batches. \n",
    "# You may need to use the `.repeat()` function when building your dataset.\n",
    "train_dataset = train_ds.repeat()\n",
    "\n",
    "with strategy.scope():\n",
    "  model = build_model()\n",
    "\n",
    "  epochs = 10\n",
    "  hist = model.fit(train_dataset, epochs=epochs, \n",
    "                  validation_data=val_ds)"
   ]
  },
  {
   "cell_type": "code",
   "execution_count": 32,
   "metadata": {},
   "outputs": [
    {
     "data": {
      "text/plain": [
       "[<matplotlib.lines.Line2D at 0x7722bc1875c0>]"
      ]
     },
     "execution_count": 32,
     "metadata": {},
     "output_type": "execute_result"
    },
    {
     "data": {
      "image/png": "[encoded data removed]",
      "text/plain": [
       "<Figure size 640x480 with 1 Axes>"
      ]
     },
     "metadata": {},
     "output_type": "display_data"
    }
   ],
   "source": [
    "plt.plot(range(epochs), hist.history[\"loss\"], marker=\"o\", label=\"train loss\")\n",
    "plt.plot(range(epochs), hist.history[\"val_loss\"], marker=\"o\", label=\"validation loss\")\n",
    "plt.legend();"
   ]
  }
 ],
 "metadata": {
  "kernelspec": {
   "display_name": "psg-venv",
   "language": "python",
   "name": "python3"
  },
  "language_info": {
   "codemirror_mode": {
    "name": "ipython",
    "version": 3
   },
   "file_extension": ".py",
   "mimetype": "text/x-python",
   "name": "python",
   "nbconvert_exporter": "python",
   "pygments_lexer": "ipython3",
   "version": "3.10.12"
  }
 },
 "nbformat": 4,
 "nbformat_minor": 2
}
