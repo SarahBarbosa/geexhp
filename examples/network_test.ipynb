{
 "cells": [
  {
   "cell_type": "markdown",
   "metadata": {},
   "source": [
    "# Start"
   ]
  },
  {
   "cell_type": "code",
   "execution_count": 1,
   "metadata": {},
   "outputs": [
    {
     "name": "stderr",
     "output_type": "stream",
     "text": [
      "2025-01-13 18:22:35.068352: E external/local_xla/xla/stream_executor/cuda/cuda_fft.cc:477] Unable to register cuFFT factory: Attempting to register factory for plugin cuFFT when one has already been registered\n",
      "WARNING: All log messages before absl::InitializeLog() is called are written to STDERR\n",
      "E0000 00:00:1736803355.086742 2821637 cuda_dnn.cc:8310] Unable to register cuDNN factory: Attempting to register factory for plugin cuDNN when one has already been registered\n",
      "E0000 00:00:1736803355.092044 2821637 cuda_blas.cc:1418] Unable to register cuBLAS factory: Attempting to register factory for plugin cuBLAS when one has already been registered\n",
      "2025-01-13 18:22:35.112047: I tensorflow/core/platform/cpu_feature_guard.cc:210] This TensorFlow binary is optimized to use available CPU instructions in performance-critical operations.\n",
      "To enable the following instructions: AVX2 FMA, in other operations, rebuild TensorFlow with the appropriate compiler flags.\n"
     ]
    }
   ],
   "source": [
    "import tensorflow as tf"
   ]
  },
  {
   "cell_type": "markdown",
   "metadata": {},
   "source": [
    "# Functions"
   ]
  },
  {
   "cell_type": "code",
   "execution_count": 2,
   "metadata": {},
   "outputs": [],
   "source": [
    "# Parsing function.\n",
    "def parse_example(example_proto, feature_description):\n",
    "    # Parse the example.\n",
    "    parsed_features = tf.io.parse_single_example(example_proto, feature_description)\n",
    "\n",
    "    # Convert SparseTensors to DenseTensors.\n",
    "    #   This is necessary because we loaded features with variable length.\n",
    "    #   Although the parsed files have the desired data, they have other things \n",
    "    #   (indices, values and dense_shape). Neural networks must work with values\n",
    "    #   in a more direct way.\n",
    "    dense_features = {\n",
    "        key: tf.sparse.to_dense(value, default_value=0.0)\n",
    "        if isinstance(value, tf.SparseTensor) else value\n",
    "        for key, value in parsed_features.items()\n",
    "    }\n",
    "\n",
    "    return dense_features"
   ]
  },
  {
   "cell_type": "code",
   "execution_count": 3,
   "metadata": {},
   "outputs": [],
   "source": [
    "def read_tfrecord(file, batch_size = 10):\n",
    "    # Define feature description for parsing.\n",
    "    #   Comment every feature that will not be used.\n",
    "    known_feature_description = {\n",
    "        # 'NOISY_ALBEDO_B-NIR' : tf.io.VarLenFeature(tf.float32),\n",
    "        # 'NOISY_ALBEDO_B-UV' : tf.io.VarLenFeature(tf.float32),\n",
    "        # 'NOISY_ALBEDO_B-Vis' : tf.io.VarLenFeature(tf.float32),\n",
    "        # 'NOISY_ALBEDO_SS-NIR' : tf.io.VarLenFeature(tf.float32),\n",
    "        # 'NOISY_ALBEDO_SS-UV' : tf.io.VarLenFeature(tf.float32),\n",
    "        # 'NOISY_ALBEDO_SS-Vis' : tf.io.VarLenFeature(tf.float32),\n",
    "\n",
    "        'NOISY_ALBEDO_B-NIR_norm' : tf.io.VarLenFeature(tf.float32),\n",
    "        'NOISY_ALBEDO_B-UV_norm' : tf.io.VarLenFeature(tf.float32),\n",
    "        'NOISY_ALBEDO_B-Vis_norm' : tf.io.VarLenFeature(tf.float32),\n",
    "        \n",
    "        'NOISY_ALBEDO_SS-NIR_norm' : tf.io.VarLenFeature(tf.float32),\n",
    "        'NOISY_ALBEDO_SS-UV_norm' : tf.io.VarLenFeature(tf.float32),\n",
    "        'NOISY_ALBEDO_SS-Vis_norm' : tf.io.VarLenFeature(tf.float32),\n",
    "\n",
    "        'radius' : tf.io.FixedLenFeature([], tf.float32),\n",
    "        'log_gravity' : tf.io.FixedLenFeature([], tf.float32),\n",
    "        'log_temperature' : tf.io.FixedLenFeature([], tf.float32),\n",
    "        'log_pressure' : tf.io.FixedLenFeature([], tf.float32),\n",
    "\n",
    "        # 'OBJECT-DIAMETER' : tf.io.FixedLenFeature([], tf.float32),\n",
    "        # 'OBJECT-GRAVITY' : tf.io.FixedLenFeature([], tf.float32),\n",
    "        # 'ATMOSPHERE-TEMPERATURE' : tf.io.FixedLenFeature([], tf.float32),\n",
    "        # 'ATMOSPHERE-PRESSURE' : tf.io.FixedLenFeature([], tf.float32),\n",
    "        \n",
    "        'Earth_type' : tf.io.FixedLenFeature([], tf.string),\n",
    "\n",
    "        'log_C2H6' : tf.io.FixedLenFeature([], tf.float32),\n",
    "        'log_CH4' : tf.io.FixedLenFeature([], tf.float32),\n",
    "        'log_CO' : tf.io.FixedLenFeature([], tf.float32),\n",
    "        'log_CO2' : tf.io.FixedLenFeature([], tf.float32),\n",
    "        'log_H2O' : tf.io.FixedLenFeature([], tf.float32),\n",
    "        'log_N2' : tf.io.FixedLenFeature([], tf.float32),\n",
    "        'log_N2O' : tf.io.FixedLenFeature([], tf.float32),\n",
    "        'log_O2' : tf.io.FixedLenFeature([], tf.float32),\n",
    "        'log_O3' : tf.io.FixedLenFeature([], tf.float32)\n",
    "    }\n",
    "\n",
    "    # Read TFRecord.\n",
    "    dataset = tf.data.TFRecordDataset(file)\n",
    "    parsed_dataset = dataset.map(lambda x: parse_example(x, known_feature_description), num_parallel_calls=tf.data.AUTOTUNE)\n",
    "\n",
    "    parsed_dataset = parsed_dataset.batch(batch_size, drop_remainder=False)\n",
    "    parsed_dataset = parsed_dataset.prefetch(tf.data.AUTOTUNE)\n",
    "    parsed_dataset = tf.data.Dataset.range(1).interleave(lambda _: parsed_dataset, num_parallel_calls=tf.data.AUTOTUNE)\n",
    "\n",
    "    return parsed_dataset"
   ]
  },
  {
   "cell_type": "markdown",
   "metadata": {},
   "source": [
    "# Run"
   ]
  },
  {
   "cell_type": "code",
   "execution_count": 4,
   "metadata": {},
   "outputs": [
    {
     "name": "stderr",
     "output_type": "stream",
     "text": [
      "I0000 00:00:1736803357.343609 2821637 gpu_device.cc:2022] Created device /job:localhost/replica:0/task:0/device:GPU:0 with 707 MB memory:  -> device: 0, name: NVIDIA GeForce RTX 2060, pci bus id: 0000:08:00.0, compute capability: 7.5\n"
     ]
    }
   ],
   "source": [
    "tfrecord_file = '/home/cleber/Documentos/Sarah/geexhp-main/data/TFRecord_data/proterozoic_data27_66660-73326_3130.tfrecord'\n",
    "\n",
    "train_ds = read_tfrecord(tfrecord_file)"
   ]
  },
  {
   "cell_type": "code",
   "execution_count": 5,
   "metadata": {},
   "outputs": [
    {
     "name": "stderr",
     "output_type": "stream",
     "text": [
      "2025-01-13 18:22:37.476720: I tensorflow/core/kernels/data/tf_record_dataset_op.cc:370] TFRecordDataset `buffer_size` is unspecified, default to 262144\n",
      "2025-01-13 18:22:37.558452: I tensorflow/core/framework/local_rendezvous.cc:405] Local rendezvous is aborting with status: OUT_OF_RANGE: End of sequence\n"
     ]
    },
    {
     "data": {
      "text/plain": [
       "313"
      ]
     },
     "execution_count": 5,
     "metadata": {},
     "output_type": "execute_result"
    }
   ],
   "source": [
    "count = 0\n",
    "\n",
    "for batch in train_ds:\n",
    "    count += 1\n",
    "\n",
    "count"
   ]
  },
  {
   "cell_type": "code",
   "execution_count": 6,
   "metadata": {},
   "outputs": [
    {
     "data": {
      "text/plain": [
       "20"
      ]
     },
     "execution_count": 6,
     "metadata": {},
     "output_type": "execute_result"
    }
   ],
   "source": [
    "len(batch)"
   ]
  },
  {
   "cell_type": "code",
   "execution_count": 9,
   "metadata": {},
   "outputs": [
    {
     "data": {
      "text/plain": [
       "dict_keys(['NOISY_ALBEDO_B-NIR_norm', 'NOISY_ALBEDO_B-UV_norm', 'NOISY_ALBEDO_B-Vis_norm', 'NOISY_ALBEDO_SS-NIR_norm', 'NOISY_ALBEDO_SS-UV_norm', 'NOISY_ALBEDO_SS-Vis_norm', 'Earth_type', 'log_C2H6', 'log_CH4', 'log_CO', 'log_CO2', 'log_H2O', 'log_N2', 'log_N2O', 'log_O2', 'log_O3', 'log_gravity', 'log_pressure', 'log_temperature', 'radius'])"
      ]
     },
     "execution_count": 9,
     "metadata": {},
     "output_type": "execute_result"
    }
   ],
   "source": [
    "batch.keys()"
   ]
  }
 ],
 "metadata": {
  "kernelspec": {
   "display_name": "sarah_geexhp",
   "language": "python",
   "name": "python3"
  },
  "language_info": {
   "codemirror_mode": {
    "name": "ipython",
    "version": 3
   },
   "file_extension": ".py",
   "mimetype": "text/x-python",
   "name": "python",
   "nbconvert_exporter": "python",
   "pygments_lexer": "ipython3",
   "version": "3.12.3"
  }
 },
 "nbformat": 4,
 "nbformat_minor": 2
}
