{
 "cells": [
  {
   "cell_type": "markdown",
   "metadata": {},
   "source": [
    "# Setup"
   ]
  },
  {
   "cell_type": "code",
   "execution_count": 1,
   "metadata": {},
   "outputs": [
    {
     "name": "stderr",
     "output_type": "stream",
     "text": [
      "2025-03-09 12:07:42.010120: I tensorflow/core/util/port.cc:153] oneDNN custom operations are on. You may see slightly different numerical results due to floating-point round-off errors from different computation orders. To turn them off, set the environment variable `TF_ENABLE_ONEDNN_OPTS=0`.\n",
      "2025-03-09 12:07:42.010667: I external/local_xla/xla/tsl/cuda/cudart_stub.cc:32] Could not find cuda drivers on your machine, GPU will not be used.\n",
      "2025-03-09 12:07:42.012664: I external/local_xla/xla/tsl/cuda/cudart_stub.cc:32] Could not find cuda drivers on your machine, GPU will not be used.\n",
      "2025-03-09 12:07:42.018753: E external/local_xla/xla/stream_executor/cuda/cuda_fft.cc:485] Unable to register cuFFT factory: Attempting to register factory for plugin cuFFT when one has already been registered\n",
      "2025-03-09 12:07:42.029560: E external/local_xla/xla/stream_executor/cuda/cuda_dnn.cc:8454] Unable to register cuDNN factory: Attempting to register factory for plugin cuDNN when one has already been registered\n",
      "2025-03-09 12:07:42.032627: E external/local_xla/xla/stream_executor/cuda/cuda_blas.cc:1452] Unable to register cuBLAS factory: Attempting to register factory for plugin cuBLAS when one has already been registered\n",
      "2025-03-09 12:07:42.041057: I tensorflow/core/platform/cpu_feature_guard.cc:210] This TensorFlow binary is optimized to use available CPU instructions in performance-critical operations.\n",
      "To enable the following instructions: AVX2 AVX_VNNI FMA, in other operations, rebuild TensorFlow with the appropriate compiler flags.\n",
      "2025-03-09 12:07:42.614990: W tensorflow/compiler/tf2tensorrt/utils/py_utils.cc:38] TF-TRT Warning: Could not find TensorRT\n"
     ]
    }
   ],
   "source": [
    "import json\n",
    "import numpy as np\n",
    "import matplotlib.pyplot as plt\n",
    "import pandas as pd\n",
    "import tensorflow as tf"
   ]
  },
  {
   "cell_type": "code",
   "execution_count": 2,
   "metadata": {},
   "outputs": [],
   "source": [
    "with open('../data/normalization_stats.json', 'r') as f:\n",
    "    stats = json.load(f)"
   ]
  },
  {
   "cell_type": "code",
   "execution_count": 3,
   "metadata": {},
   "outputs": [],
   "source": [
    "model_load = tf.keras.models.load_model(\"NN_22-tuner.keras\")"
   ]
  },
  {
   "cell_type": "markdown",
   "metadata": {},
   "source": [
    "# The Earth at different distances"
   ]
  },
  {
   "cell_type": "code",
   "execution_count": 4,
   "metadata": {},
   "outputs": [],
   "source": [
    "modernwithoutO3 = np.load(\"../data/tests/modernwithoutO3_10pc_luvoir.npy\", allow_pickle=True)\n",
    "uv = modernwithoutO3[0][\"NOISY_ALBEDO\"]\n",
    "vis = modernwithoutO3[1][\"NOISY_ALBEDO\"]\n",
    "nir = modernwithoutO3[2][\"NOISY_ALBEDO\"]"
   ]
  },
  {
   "cell_type": "code",
   "execution_count": 5,
   "metadata": {},
   "outputs": [],
   "source": [
    "uv_mean, uv_std = stats['inputs']['B-UV']['mean'], stats['inputs']['B-UV']['std']\n",
    "vis_mean, vis_std = stats['inputs']['B-Vis']['mean'], stats['inputs']['B-Vis']['std']\n",
    "nir_mean, nir_std = stats['inputs']['B-NIR']['mean'], stats['inputs']['B-NIR']['std']"
   ]
  },
  {
   "cell_type": "code",
   "execution_count": 6,
   "metadata": {},
   "outputs": [],
   "source": [
    "uv_normalized = (uv - uv_mean) / uv_std\n",
    "vis_normalized = (vis- vis_mean) / vis_std\n",
    "nir_normalized = (nir - nir_mean) / nir_std\n",
    "\n",
    "uv_normalized = uv_normalized.reshape(1, 8, 1)\n",
    "vis_normalized = vis_normalized.reshape(1, 94, 1)\n",
    "nir_normalized = nir_normalized.reshape(1, 49, 1)"
   ]
  },
  {
   "cell_type": "code",
   "execution_count": 7,
   "metadata": {},
   "outputs": [
    {
     "name": "stderr",
     "output_type": "stream",
     "text": [
      "WARNING: All log messages before absl::InitializeLog() is called are written to STDERR\n",
      "I0000 00:00:1741532863.665862  994703 service.cc:146] XLA service 0x7f9f580330a0 initialized for platform Host (this does not guarantee that XLA will be used). Devices:\n",
      "I0000 00:00:1741532863.665893  994703 service.cc:154]   StreamExecutor device (0): Host, Default Version\n",
      "2025-03-09 12:07:43.678238: I tensorflow/compiler/mlir/tensorflow/utils/dump_mlir_util.cc:268] disabling MLIR crash reproducer, set env var `MLIR_CRASH_REPRODUCER_DIRECTORY` to enable.\n"
     ]
    },
    {
     "name": "stdout",
     "output_type": "stream",
     "text": [
      "\u001b[1m1/1\u001b[0m \u001b[32m━━━━━━━━━━━━━━━━━━━━\u001b[0m\u001b[37m\u001b[0m \u001b[1m0s\u001b[0m 426ms/step\n"
     ]
    },
    {
     "name": "stderr",
     "output_type": "stream",
     "text": [
      "I0000 00:00:1741532863.884440  994703 device_compiler.h:188] Compiled cluster using XLA!  This line is logged at most once for the lifetime of the process.\n"
     ]
    }
   ],
   "source": [
    "predictions = model_load.predict([uv_normalized, vis_normalized, nir_normalized])"
   ]
  },
  {
   "cell_type": "code",
   "execution_count": 8,
   "metadata": {},
   "outputs": [],
   "source": [
    "physical_targets = [\n",
    "    \"OBJECT-RADIUS-REL-EARTH\",\n",
    "    \"OBJECT-GRAVITY\",\n",
    "    \"ATMOSPHERE-TEMPERATURE\",\n",
    "    \"ATMOSPHERE-PRESSURE\"\n",
    "]\n",
    "main_chemical_targets = ['O2', 'O3']\n",
    "other_chemical_targets = ['CH4', 'CO', 'CO2', 'H2O', 'N2', 'N2O']\n",
    "\n",
    "def denormalize_physical(predictions, stats, targets):\n",
    "    \"\"\"\n",
    "    Inverts the normalization for physical outputs.\n",
    "    predictions: np.array of shape (batch, len(targets))\n",
    "    stats: the loaded JSON stats dictionary\n",
    "    targets: list of physical target names\n",
    "    Returns:\n",
    "        np.array with original scale values.\n",
    "    \"\"\"\n",
    "    original = np.zeros_like(predictions)\n",
    "    for i, target in enumerate(targets):\n",
    "        # Get stats: min, max, and best_n\n",
    "        min_val, max_val, best_n = stats['outputs'][target]['min'], stats['outputs'][target]['max'], stats['outputs'][target]['best_n']\n",
    "        # Inverse transformation: \n",
    "        # prediction = ((val - min) / (max - min))^(1/best_n) \n",
    "        # Thus, val = min + (max - min) * (prediction)^(best_n)\n",
    "        original[:, i] = min_val + (max_val - min_val) * (predictions[:, i] ** best_n)\n",
    "    return original\n",
    "\n",
    "def denormalize_chemical(predictions, stats, targets):\n",
    "    \"\"\"\n",
    "    Inverts the transformation for chemical outputs.\n",
    "    predictions: np.array of shape (batch, len(targets))\n",
    "    stats: the loaded JSON stats dictionary\n",
    "    targets: list of chemical target names\n",
    "    Returns:\n",
    "        np.array with original scale values.\n",
    "    \"\"\"\n",
    "    original = np.zeros_like(predictions)\n",
    "    for i, target in enumerate(targets):\n",
    "        best_n = stats['outputs'][target]['best_n']\n",
    "        # Inverse transformation: prediction = val^(1/best_n) so val = prediction^(best_n)\n",
    "        original[:, i] = predictions[:, i] ** best_n\n",
    "    return original"
   ]
  },
  {
   "cell_type": "code",
   "execution_count": null,
   "metadata": {},
   "outputs": [
    {
     "name": "stdout",
     "output_type": "stream",
     "text": [
      "Physical outputs (original scale):\n",
      "OBJECT-RADIUS-REL-EARTH: 1.1382752656936646\n",
      "OBJECT-GRAVITY: 11.985319137573242\n",
      "ATMOSPHERE-TEMPERATURE: 277.9378356933594\n",
      "ATMOSPHERE-PRESSURE: 1521.1312255859375\n",
      "\n",
      "Main chemical outputs (original scale):\n",
      "O2: 0.10215122252702713\n",
      "O3: 5.897689447920129e-09\n",
      "\n",
      "Other chemical outputs (original scale):\n",
      "CH4: 4.5234185108711245e-07\n",
      "CO: 7.743665264570154e-07\n",
      "CO2: 4.0777686081128195e-05\n",
      "H2O: 0.0004499039496295154\n",
      "N2: 0.8969947695732117\n",
      "N2O: 4.206489734315255e-08\n"
     ]
    }
   ],
   "source": [
    "# Denormalize physical outputs.\n",
    "physical_original = denormalize_physical(predictions['physical_output'], stats, physical_targets)\n",
    "\n",
    "# Denormalize chemical outputs.\n",
    "main_chem_original = denormalize_chemical(predictions['main_chemical_output'], stats, main_chemical_targets)\n",
    "other_chem_original = denormalize_chemical(predictions['other_chemical_output'], stats, other_chemical_targets)\n",
    "\n",
    "print(\"Physical outputs (original scale):\")\n",
    "for target, value in zip(physical_targets, physical_original[0]):\n",
    "    print(f\"{target}: {value}\")\n",
    "\n",
    "print(\"\\nMain chemical outputs (original scale):\")\n",
    "for target, value in zip(main_chemical_targets, main_chem_original[0]):\n",
    "    print(f\"{target}: {value}\")\n",
    "\n",
    "print(\"\\nOther chemical outputs (original scale):\")\n",
    "for target, value in zip(other_chemical_targets, other_chem_original[0]):\n",
    "    print(f\"{target}: {value}\")\n",
    "\n",
    "\n",
    "# Send the remaining values back to PSG to generate the spectrum again!!!!!"
   ]
  },
  {
   "cell_type": "code",
   "execution_count": 10,
   "metadata": {},
   "outputs": [
    {
     "data": {
      "text/plain": [
       "[('OBJECT-RADIUS-REL-EARTH', 0.998886815822894),\n",
       " ('OBJECT-GRAVITY', '9.807'),\n",
       " ('ATMOSPHERE-TEMPERATURE', '288.2'),\n",
       " ('ATMOSPHERE-PRESSURE', '1012.9999999999999'),\n",
       " ('CO2', 0.0003830067335417856),\n",
       " ('O2', 0.2109312445592439),\n",
       " ('H2O', 0.0004620659506901333),\n",
       " ('CO', 3.209538395756897e-06),\n",
       " ('O3', 0.0),\n",
       " ('CH4', 1.7157086878024644e-06),\n",
       " ('N2O', 3.2295692946869933e-07),\n",
       " ('N2', 0.7882167559845431)]"
      ]
     },
     "execution_count": 10,
     "metadata": {},
     "output_type": "execute_result"
    }
   ],
   "source": [
    "list(modernwithoutO3[0].items())[4:]"
   ]
  }
 ],
 "metadata": {
  "kernelspec": {
   "display_name": "psg-venv",
   "language": "python",
   "name": "python3"
  },
  "language_info": {
   "codemirror_mode": {
    "name": "ipython",
    "version": 3
   },
   "file_extension": ".py",
   "mimetype": "text/x-python",
   "name": "python",
   "nbconvert_exporter": "python",
   "pygments_lexer": "ipython3",
   "version": "3.10.12"
  }
 },
 "nbformat": 4,
 "nbformat_minor": 2
}
